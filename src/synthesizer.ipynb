{
 "cells": [
  {
   "cell_type": "code",
   "execution_count": 82,
   "id": "887e917b-0eef-4279-a51f-06ca70072bd7",
   "metadata": {},
   "outputs": [],
   "source": [
    "import librosa\n",
    "import numpy as np\n",
    "import random\n",
    "\n",
    "import os\n",
    "import soundfile as sf"
   ]
  },
  {
   "cell_type": "code",
   "execution_count": 71,
   "id": "0097bbe7-9ca6-4de6-b789-07546eb4ac1c",
   "metadata": {},
   "outputs": [],
   "source": [
    "data_dir = \"/Users/glebmokeev/Rask/data\""
   ]
  },
  {
   "cell_type": "code",
   "execution_count": 107,
   "id": "46d1365a-d6f7-486f-9965-6849f718ad16",
   "metadata": {},
   "outputs": [],
   "source": [
    "def synthesize_audio(speech_path, music_path, output_path, reverse_music=False, gain_db=0):\n",
    "    speech, sr_speech = librosa.load(speech_path)\n",
    "    music, sr_music = librosa.load(music_path)\n",
    "    \n",
    "\n",
    "    if sr_speech != sr_music:\n",
    "        raise ValueError(\"Speech and music sample rates must be equal.\")\n",
    "    \n",
    "      # Optional: Reverse music\n",
    "    if reverse_music:\n",
    "        music = music[::-1]\n",
    "\n",
    "    speech = speech * (10**(gain_db / 20))  # Convert gain_db to linear gain\n",
    "    \n",
    "      # Normalize music to avoid clipping\n",
    "    music_rms = librosa.feature.rms(y=music)\n",
    "    scaling_factor = 0.3  # Adjust this value to control volume reduction\n",
    "    music = music * scaling_factor\n",
    "\n",
    "    music = music / np.max(np.abs(music_rms))\n",
    "\n",
    "    if len(speech) != len(music):\n",
    "        return\n",
    "      # Combine speech and music (assuming mono audio)\n",
    "    combined_audio = speech + music\n",
    "    \n",
    "      # Save the synthesized audio\n",
    "    sf.write(output_path, combined_audio, sr_music)\n"
   ]
  },
  {
   "cell_type": "code",
   "execution_count": 108,
   "id": "1c1e2bc3-123f-4d20-b9da-ae91a2ddf091",
   "metadata": {},
   "outputs": [],
   "source": [
    "os.makedirs(os.path.join(data_dir, \"synths\"), exist_ok=True)"
   ]
  },
  {
   "cell_type": "code",
   "execution_count": 109,
   "id": "6202464c-f605-4087-94ea-a42ab03f9730",
   "metadata": {},
   "outputs": [],
   "source": [
    "speech_path = os.path.join(data_dir, \"vocals/mixed/audio/frag\")\n",
    "music_path = os.path.join(data_dir, \"music/clean/frag/\")\n",
    "synth_path =os.path.join(data_dir, \"synths\")"
   ]
  },
  {
   "cell_type": "code",
   "execution_count": 111,
   "id": "11256e7c-5b5b-42de-b571-dd79ffc599ff",
   "metadata": {},
   "outputs": [
    {
     "name": "stderr",
     "output_type": "stream",
     "text": [
      "/var/folders/14/gktzbf5x5_18n56bjls0y7cw0000gn/T/ipykernel_71278/149981537.py:20: RuntimeWarning: invalid value encountered in divide\n",
      "  music = music / np.max(np.abs(music_rms))\n"
     ]
    }
   ],
   "source": [
    "number_of_combinations = 100\n",
    "\n",
    "speech_files = [f for f in os.listdir(speech_path) if f.endswith(\".wav\")]\n",
    "music_files = [f for f in os.listdir(music_path) if f.endswith(\".wav\")]\n",
    "\n",
    "for i in range(number_of_combinations):\n",
    "    gain_db = random.uniform(0, 20)\n",
    "    is_reversed = random.random() < 0.05\n",
    "    \n",
    "    chosen_speech = random.choice(speech_files)\n",
    "    chosen_music = random.choice(music_files)\n",
    "    synthesize_audio(os.path.join(speech_path, chosen_speech), os.path.join(music_path, chosen_music), os.path.join(synth_path, f\"comb_{i+1}.wav\"), reverse_music=is_reversed, gain_db=gain_db)"
   ]
  },
  {
   "cell_type": "code",
   "execution_count": null,
   "id": "a15faa5f-acf2-4741-bb6b-a9f935d8fd2f",
   "metadata": {},
   "outputs": [],
   "source": []
  }
 ],
 "metadata": {
  "kernelspec": {
   "display_name": "psvenv11",
   "language": "python",
   "name": "psvenv11"
  },
  "language_info": {
   "codemirror_mode": {
    "name": "ipython",
    "version": 3
   },
   "file_extension": ".py",
   "mimetype": "text/x-python",
   "name": "python",
   "nbconvert_exporter": "python",
   "pygments_lexer": "ipython3",
   "version": "3.12.4"
  }
 },
 "nbformat": 4,
 "nbformat_minor": 5
}
