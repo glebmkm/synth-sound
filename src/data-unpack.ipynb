{
 "cells": [
  {
   "cell_type": "code",
   "execution_count": 1,
   "id": "edf1a96c-6074-456d-ab16-d79535261151",
   "metadata": {},
   "outputs": [],
   "source": [
    "import tarfile\n",
    "import os\n",
    "import shutil\n",
    "import zipfile\n",
    "\n",
    "from pydub import AudioSegment\n",
    "from pydub.playback import play\n",
    "import IPython\n",
    "import wave\n",
    "from scipy.io import wavfile\n",
    "\n",
    "import numpy as np\n",
    "import random"
   ]
  },
  {
   "cell_type": "markdown",
   "id": "46cdd46e-18e6-4bb8-b630-585cc55db9ad",
   "metadata": {},
   "source": [
    "### Unpacking LibriTTS-R test set"
   ]
  },
  {
   "cell_type": "code",
   "execution_count": 12,
   "id": "bbd698e6-ce54-4bbd-8304-ddca1078e5b6",
   "metadata": {
    "scrolled": true
   },
   "outputs": [],
   "source": [
    "with tarfile.open(\"/Volumes/Drive-1/Datasets/test_clean.tar.gz\", \"r:gz\") as tar:\n",
    "  tar.extractall(\"/Volumes/Drive-1/Datasets/speech_unpacked\")"
   ]
  },
  {
   "cell_type": "markdown",
   "id": "970a4524-525b-4d18-9dcc-c552a36955f3",
   "metadata": {},
   "source": [
    "### Copying files in a new directory"
   ]
  },
  {
   "cell_type": "code",
   "execution_count": 6,
   "id": "a75a1102-fe8e-4f9a-8f31-44fa2d225e9d",
   "metadata": {},
   "outputs": [],
   "source": [
    "libri_testset_dir = \"/Volumes/Drive-1/Datasets/speech_unpacked/LibriTTS_R\"\n",
    "\n",
    "musan_music_src = \"/Volumes/Drive-1/Datasets/speech_unpacked/musan/music\"\n",
    "musan_speech_en_src = \"/Volumes/Drive-1/Datasets/speech_unpacked/musan/speech/us-gov\"\n",
    "musan_speech_mixed_src = \"/Volumes/Drive-1/Datasets/speech_unpacked/musan/speech/librivox\""
   ]
  },
  {
   "cell_type": "code",
   "execution_count": 17,
   "id": "502d8587-ee65-47a1-9501-34b5dc9b3552",
   "metadata": {},
   "outputs": [
    {
     "name": "stdout",
     "output_type": "stream",
     "text": [
      "Directory structure '/Users/glebmokeev/Rask/data/vocals/en/audio' created successfully!\n",
      "Directory structure '/Users/glebmokeev/Rask/data/vocals/en/lyrics' created successfully!\n",
      "Directory structure '/Users/glebmokeev/Rask/data/music/dirty' created successfully!\n",
      "Directory structure '/Users/glebmokeev/Rask/data/vocals/en/audio' created successfully!\n",
      "Directory structure '/Users/glebmokeev/Rask/data/vocals/mixed/audio' created successfully!\n",
      "Directory structure '/Users/glebmokeev/Rask/data/music/clean' created successfully!\n"
     ]
    }
   ],
   "source": [
    "libri_wav_dir = \"/Users/glebmokeev/Rask/data/vocals/en/audio\"\n",
    "libri_text_dest = \"/Users/glebmokeev/Rask/data/vocals/en/lyrics\"\n",
    "\n",
    "musan_music_dir = \"/Users/glebmokeev/Rask/data/music/dirty\"\n",
    "musan_music_clean_dir = \"/Users/glebmokeev/Rask/data/music/clean\"\n",
    "musan_speech_en_dir = \"/Users/glebmokeev/Rask/data/vocals/en/audio\"\n",
    "musan_speech_mixed_dir = \"/Users/glebmokeev/Rask/data/vocals/mixed/audio\"\n",
    "\n",
    "os.makedirs(libri_wav_dir, exist_ok=True)\n",
    "print(f\"Directory structure '{libri_wav_dir}' created successfully!\")\n",
    "\n",
    "os.makedirs(libri_text_dest, exist_ok=True)\n",
    "print(f\"Directory structure '{libri_text_dest}' created successfully!\")\n",
    "\n",
    "os.makedirs(musan_music_dir, exist_ok=True)\n",
    "print(f\"Directory structure '{musan_music_dir}' created successfully!\")\n",
    "\n",
    "os.makedirs(musan_speech_en_dir, exist_ok=True)\n",
    "print(f\"Directory structure '{musan_speech_en_dir}' created successfully!\")\n",
    "\n",
    "os.makedirs(musan_speech_mixed_dir, exist_ok=True)\n",
    "print(f\"Directory structure '{musan_speech_mixed_dir}' created successfully!\")\n",
    "\n",
    "os.makedirs(musan_music_clean_dir, exist_ok=True)\n",
    "print(f\"Directory structure '{musan_music_clean_dir}' created successfully!\")"
   ]
  },
  {
   "cell_type": "code",
   "execution_count": 4,
   "id": "dffdc955-75aa-4a0d-a162-8ee2d6f2bed6",
   "metadata": {},
   "outputs": [],
   "source": [
    "os.makedirs(\"/Users/glebmokeev/Rask/data/test-sounds\", exist_ok=True)"
   ]
  },
  {
   "cell_type": "code",
   "execution_count": 9,
   "id": "68b176fa-c805-44f1-8e61-54241b960b0e",
   "metadata": {},
   "outputs": [],
   "source": [
    "def copy_files(source_dir, wav_dest, text_dest):\n",
    "    count = 0\n",
    "    for root, dirs, files in os.walk(source_dir):\n",
    "        for filename in files:\n",
    "            if filename.endswith(\".wav\"):\n",
    "                count += 1\n",
    "                try:\n",
    "                    shutil.copy(root + '/' + filename, wav_dest + '/' + filename)\n",
    "                except shutil.Error as e:\n",
    "                    print(f\"Error copying file: {e}\")\n",
    "\n",
    "            elif filename.endswith(\".normalized.txt\") and text_dest != \"_\":\n",
    "                count += 1\n",
    "                try:\n",
    "                    shutil.copy(root + '/' + filename, text_dest + '/' + filename)\n",
    "                except shutil.Error as e:\n",
    "                    print(f\"Error copying file: {e}\")\n",
    "                    \n",
    "    return count"
   ]
  },
  {
   "cell_type": "markdown",
   "id": "7fdd5d17-1919-4a36-9fb6-7bc43246fe2a",
   "metadata": {},
   "source": [
    "#### Copying LibriTTS"
   ]
  },
  {
   "cell_type": "code",
   "execution_count": 12,
   "id": "728224a1-1c08-4b6a-9ce8-564027b4abd7",
   "metadata": {
    "scrolled": true
   },
   "outputs": [
    {
     "name": "stdout",
     "output_type": "stream",
     "text": [
      "Number of files copied: 9674\n"
     ]
    }
   ],
   "source": [
    "print(f\"Number of files copied: {copy_files(libri_testset_dir, libri_wav_dir, libri_text_dest)}\")"
   ]
  },
  {
   "cell_type": "markdown",
   "id": "de78857b-33cf-4fec-af04-76369b2a34bb",
   "metadata": {},
   "source": [
    "#### Copying Musan"
   ]
  },
  {
   "cell_type": "code",
   "execution_count": 16,
   "id": "71d095d4-1bba-4d91-96f2-b16eb29b42ef",
   "metadata": {},
   "outputs": [
    {
     "name": "stdout",
     "output_type": "stream",
     "text": [
      "Number of files copied: 796\n",
      "Number of files copied: 506\n",
      "Number of files copied: 346\n"
     ]
    }
   ],
   "source": [
    "print(f\"Number of files copied: {copy_files(musan_music_src, musan_music_dir, '_')}\")\n",
    "\n",
    "print(f\"Number of files copied: {copy_files(musan_speech_en_src, musan_speech_en_dir, '_')}\")\n",
    "\n",
    "print(f\"Number of files copied: {copy_files(musan_speech_mixed_src, musan_speech_mixed_dir, '_')}\")"
   ]
  },
  {
   "cell_type": "code",
   "execution_count": 18,
   "id": "c8e76fc5-fedc-4b1e-af9d-221bc62039ef",
   "metadata": {},
   "outputs": [
    {
     "name": "stdout",
     "output_type": "stream",
     "text": [
      "Number of files copied: 150\n"
     ]
    }
   ],
   "source": [
    "print(f\"Number of files copied: {copy_files(os.path.join(musan_music_src, 'hd-classical'), musan_music_clean_dir, '_')}\")"
   ]
  },
  {
   "cell_type": "markdown",
   "id": "7b1dc1a3-954b-469c-a0b4-b5125d4b4f34",
   "metadata": {},
   "source": [
    "### MUSDB18"
   ]
  },
  {
   "cell_type": "code",
   "execution_count": 3,
   "id": "760c3441-8bd5-426e-8bd0-9a1d2db17aea",
   "metadata": {},
   "outputs": [],
   "source": [
    "with zipfile.ZipFile(\"/Volumes/Drive-1/Datasets/musdb18.zip\", 'r') as zip_ref:\n",
    "  zip_ref.extractall(\"/Volumes/Drive-1/Datasets/speech_unpacked/musdb18\")"
   ]
  },
  {
   "cell_type": "code",
   "execution_count": null,
   "id": "b2d215ba-1cf7-4812-8730-2b426dc7c042",
   "metadata": {},
   "outputs": [],
   "source": []
  }
 ],
 "metadata": {
  "kernelspec": {
   "display_name": "psvenv11",
   "language": "python",
   "name": "psvenv11"
  },
  "language_info": {
   "codemirror_mode": {
    "name": "ipython",
    "version": 3
   },
   "file_extension": ".py",
   "mimetype": "text/x-python",
   "name": "python",
   "nbconvert_exporter": "python",
   "pygments_lexer": "ipython3",
   "version": "3.12.4"
  }
 },
 "nbformat": 4,
 "nbformat_minor": 5
}
